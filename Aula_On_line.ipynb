{
  "nbformat": 4,
  "nbformat_minor": 0,
  "metadata": {
    "colab": {
      "provenance": [],
      "authorship_tag": "ABX9TyNBtP6xNt9Ht+V0+NDlaU1o",
      "include_colab_link": true
    },
    "kernelspec": {
      "name": "python3",
      "display_name": "Python 3"
    },
    "language_info": {
      "name": "python"
    }
  },
  "cells": [
    {
      "cell_type": "markdown",
      "metadata": {
        "id": "view-in-github",
        "colab_type": "text"
      },
      "source": [
        "<a href=\"https://colab.research.google.com/github/luanzin19/Aula01/blob/main/Aula_On_line.ipynb\" target=\"_parent\"><img src=\"https://colab.research.google.com/assets/colab-badge.svg\" alt=\"Open In Colab\"/></a>"
      ]
    },
    {
      "cell_type": "code",
      "execution_count": 3,
      "metadata": {
        "colab": {
          "base_uri": "https://localhost:8080/"
        },
        "id": "F7epL4YHqhyK",
        "outputId": "5dfab522-57f9-4c94-c75f-2de9ee554fe3"
      },
      "outputs": [
        {
          "output_type": "stream",
          "name": "stdout",
          "text": [
            "Luan Fonseca\n"
          ]
        }
      ],
      "source": [
        "nome = \"Luan Fonseca\"\n",
        "print(nome)"
      ]
    },
    {
      "cell_type": "code",
      "source": [
        "nomes = ['luan, carlos, daniel, mateus']\n"
      ],
      "metadata": {
        "id": "_XFAMH1luQPS"
      },
      "execution_count": 6,
      "outputs": []
    },
    {
      "cell_type": "code",
      "source": [
        "print(nomes)\n"
      ],
      "metadata": {
        "colab": {
          "base_uri": "https://localhost:8080/"
        },
        "id": "_N74Er1Sudna",
        "outputId": "9f17c7b2-6059-4b71-e469-f40a99344699"
      },
      "execution_count": 8,
      "outputs": [
        {
          "output_type": "stream",
          "name": "stdout",
          "text": [
            "['luan, carlos, daniel, mateus']\n"
          ]
        }
      ]
    },
    {
      "cell_type": "code",
      "source": [
        "for nms in nomes: \n",
        "  print(nms)"
      ],
      "metadata": {
        "colab": {
          "base_uri": "https://localhost:8080/"
        },
        "id": "V8ZVgo-Vuj8h",
        "outputId": "3569f215-d26c-47e7-913c-c029636993a1"
      },
      "execution_count": 14,
      "outputs": [
        {
          "output_type": "stream",
          "name": "stdout",
          "text": [
            "luan, carlos, daniel, mateus\n"
          ]
        }
      ]
    },
    {
      "cell_type": "code",
      "source": [
        "nomes.append('Charles')\n",
        "nomes\n"
      ],
      "metadata": {
        "colab": {
          "base_uri": "https://localhost:8080/"
        },
        "id": "m2qcwZHRwIVC",
        "outputId": "64d1579e-5620-4ca9-afbb-417532a417ce"
      },
      "execution_count": 16,
      "outputs": [
        {
          "output_type": "execute_result",
          "data": {
            "text/plain": [
              "['luan, carlos, daniel, mateus', 'Charles']"
            ]
          },
          "metadata": {},
          "execution_count": 16
        }
      ]
    },
    {
      "cell_type": "code",
      "source": [
        "numeros = ['1,2,3,4,5,6']\n",
        "for num in numeros:\n",
        "\n",
        "  print(num)"
      ],
      "metadata": {
        "colab": {
          "base_uri": "https://localhost:8080/"
        },
        "id": "NqJrKTyd23f_",
        "outputId": "702775ce-22f3-46f0-9a16-cd27e2b7d5a9"
      },
      "execution_count": 21,
      "outputs": [
        {
          "output_type": "stream",
          "name": "stdout",
          "text": [
            "1,2,3,4,5,6\n"
          ]
        }
      ]
    },
    {
      "cell_type": "code",
      "source": [
        "notas = []\n",
        "\n",
        "for nota in range(5):\n",
        "\n",
        " notas = int(input('digite a notas: '))\n",
        "\n"
      ],
      "metadata": {
        "colab": {
          "base_uri": "https://localhost:8080/"
        },
        "id": "KymvwQre3YpE",
        "outputId": "6a387766-5f39-4883-9c56-e1088a6fb140"
      },
      "execution_count": 36,
      "outputs": [
        {
          "name": "stdout",
          "output_type": "stream",
          "text": [
            "digite a notas: 5\n",
            "digite a notas: 6\n",
            "digite a notas: 7\n",
            "digite a notas: 8\n",
            "digite a notas: 5\n"
          ]
        }
      ]
    },
    {
      "cell_type": "code",
      "source": [
        "notas = []\n",
        "for num in range(4):\n",
        "    nota = float(input('Digite a nota: '))\n",
        "    if (nota > 10) or (nota < 0):\n",
        "        print('Nota inexistente')\n",
        "    else:\n",
        "        notas.append(nota)\n",
        "print(notas)"
      ],
      "metadata": {
        "colab": {
          "base_uri": "https://localhost:8080/"
        },
        "id": "VwpmGpDC5ioF",
        "outputId": "586e34d9-4d90-44df-fc8e-d4a142937cb5"
      },
      "execution_count": 37,
      "outputs": [
        {
          "output_type": "stream",
          "name": "stdout",
          "text": [
            "Digite a nota: 4\n",
            "Digite a nota: 6\n",
            "Digite a nota: 7\n",
            "Digite a nota: 4\n",
            "[4.0, 6.0, 7.0, 4.0]\n"
          ]
        }
      ]
    }
  ]
}