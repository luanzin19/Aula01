{
  "nbformat": 4,
  "nbformat_minor": 0,
  "metadata": {
    "colab": {
      "provenance": [],
      "authorship_tag": "ABX9TyOps41PpeOEbu1OTIrOjTko",
      "include_colab_link": true
    },
    "kernelspec": {
      "name": "python3",
      "display_name": "Python 3"
    },
    "language_info": {
      "name": "python"
    }
  },
  "cells": [
    {
      "cell_type": "markdown",
      "metadata": {
        "id": "view-in-github",
        "colab_type": "text"
      },
      "source": [
        "<a href=\"https://colab.research.google.com/github/luanzin19/Aula01/blob/main/Ol%C3%A1_USUARIO.ipynb\" target=\"_parent\"><img src=\"https://colab.research.google.com/assets/colab-badge.svg\" alt=\"Open In Colab\"/></a>"
      ]
    },
    {
      "cell_type": "code",
      "execution_count": null,
      "metadata": {
        "colab": {
          "base_uri": "https://localhost:8080/"
        },
        "id": "_viGvdnTbVb1",
        "outputId": "a1e960bc-b64e-4a37-f191-81e55603e611"
      },
      "outputs": [
        {
          "output_type": "stream",
          "name": "stdout",
          "text": [
            "Digite o loguim: lyann\n",
            "Digite sua senha: lonmdd\n",
            "Olá, Usuário. Desejamos para você uma ótima experiencia ^.^ \n"
          ]
        }
      ],
      "source": [
        "#Caucular\n",
        "a = input('Digite o loguim: ')\n",
        "b = input('Digite sua senha: ')\n",
        "C = 'Olá, Usuário. '\n",
        "S = 'Desejamos para você uma ótima experiencia ^.^ '\n",
        "print(C + S)"
      ]
    }
  ]
}